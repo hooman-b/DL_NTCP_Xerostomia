{
 "cells": [
  {
   "cell_type": "markdown",
   "metadata": {},
   "source": [
    "# Introduction\n",
    "In this notebook, I will explain how I make the differenece matrix between baselineCT and weeklyCT."
   ]
  },
  {
   "cell_type": "code",
   "execution_count": 1,
   "metadata": {},
   "outputs": [],
   "source": [
    "import os\n",
    "import numpy as np\n",
    "import pandas as pd\n",
    "import matplotlib.pyplot as plot_inputs\n"
   ]
  },
  {
   "cell_type": "code",
   "execution_count": null,
   "metadata": {},
   "outputs": [],
   "source": [
    "path = '//zkh/appdata/RTDicom/Projectline_HNC_modelling/Users/Hooman Bahrdo/Models/Deep_Learning/DL_NTCP_Xerostomia/datasets/dataset_old_v2'\n",
    "first_name = 'ct.npy'\n",
    "second_name = 'weeklyct.npy'\n",
    "subtraction_name = 'subtractionct.npy'\n",
    "for r, d, f in os.walk(path):\n",
    "    # make a list from all the directories \n",
    "    subfolders = [os.path.join(r, folder) for folder in d]\n",
    "\n",
    "    try:\n",
    "        for subf in subfolders:\n",
    "            dir_list = os.listdir(subf)\n",
    "            \n",
    "            if 'np' in dir_list[0].lower():\n",
    "                first_npy = np.load(os.path.join(subf, first_name))\n",
    "                second_npy = np.load(os.path.join(subf, second_name))\n",
    "                subtraction_npy = first_npy - second_npy\n",
    "\n",
    "                np.save(file=os.path.join(subf, subtraction_name), arr=subtraction_npy)\n",
    "\n",
    "                print(os.path.join(subf, subtraction_name))\n",
    "    \n",
    "    except Exception as e:\n",
    "        print(e)\n",
    "        pass"
   ]
  },
  {
   "cell_type": "code",
   "execution_count": 37,
   "metadata": {},
   "outputs": [],
   "source": [
    "for r, d, f in os.walk(path):\n",
    "    # make a list from all the directories \n",
    "    subfolders = [os.path.join(r, folder) for folder in d]\n",
    "\n",
    "    for subf in subfolders:\n",
    "        dir_list = os.listdir(subf)\n",
    "        \n",
    "        if 'np' in dir_list[0].lower():\n",
    "            # Loop through all files in the directory\n",
    "            for filename in dir_list: \n",
    "                # Check if the filename matches the pattern\n",
    "                if filename.startswith('subctionct.npy'):\n",
    "                    # Generate the new filename with the corrected spelling\n",
    "                    new_filename = filename.replace('subctionct.npy', 'subtractionct.npy')\n",
    "                    \n",
    "                    # Rename the file\n",
    "                    os.rename(os.path.join(subf, filename), os.path.join(subf, new_filename))"
   ]
  },
  {
   "cell_type": "code",
   "execution_count": null,
   "metadata": {},
   "outputs": [],
   "source": [
    "path = '//zkh/appdata/RTDicom/Projectline_HNC_modelling/Users/Hooman Bahrdo/Models/Deep_Learning/DL_NTCP_Xerostomia/datasets/dataset_old_v2'\n",
    "file_name = 'stratified_sampling_test_manual_94.csv'\n",
    "\n",
    "dff = pd.read_csv(os.path.join(path, file_name), sep=';')\n",
    "dff.columns"
   ]
  }
 ],
 "metadata": {
  "kernelspec": {
   "display_name": "radiomics_env",
   "language": "python",
   "name": "python3"
  },
  "language_info": {
   "codemirror_mode": {
    "name": "ipython",
    "version": 3
   },
   "file_extension": ".py",
   "mimetype": "text/x-python",
   "name": "python",
   "nbconvert_exporter": "python",
   "pygments_lexer": "ipython3",
   "version": "3.7.10"
  }
 },
 "nbformat": 4,
 "nbformat_minor": 2
}
